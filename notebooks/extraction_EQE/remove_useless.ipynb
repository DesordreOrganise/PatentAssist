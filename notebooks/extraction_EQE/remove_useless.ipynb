{
 "cells": [
  {
   "cell_type": "code",
   "execution_count": 8,
   "metadata": {},
   "outputs": [],
   "source": [
    "import pymupdf\n",
    "import os"
   ]
  },
  {
   "cell_type": "code",
   "execution_count": 44,
   "metadata": {},
   "outputs": [],
   "source": [
    "path = \"../data/EQE/answwer/2022_PreEx_Answers.pdf\"\n",
    "\n",
    "\n",
    "pdf = pymupdf.open(path)\n",
    "begin_page_to_remove = 0\n",
    "end_page_to_remove = 0\n",
    "\n",
    "# remove pages\n",
    "for i in range(begin_page_to_remove):\n",
    "    pdf.delete_page(0)\n",
    "\n",
    "for i in range(end_page_to_remove):\n",
    "    pdf.delete_page(-1)\n",
    "\n",
    "\n",
    "pdf.save(\"process_\" + os.path.basename(path))"
   ]
  }
 ],
 "metadata": {
  "kernelspec": {
   "display_name": ".venv",
   "language": "python",
   "name": "python3"
  },
  "language_info": {
   "codemirror_mode": {
    "name": "ipython",
    "version": 3
   },
   "file_extension": ".py",
   "mimetype": "text/x-python",
   "name": "python",
   "nbconvert_exporter": "python",
   "pygments_lexer": "ipython3",
   "version": "3.13.2"
  }
 },
 "nbformat": 4,
 "nbformat_minor": 2
}
