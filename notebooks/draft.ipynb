{
 "cells": [
  {
   "cell_type": "code",
   "execution_count": 1,
   "metadata": {},
   "outputs": [],
   "source": [
    "import networkx as nx\n",
    "import pickle\n",
    "\n",
    "with open(\"../resources/LegalBases/graph.pkl\", \"rb\") as f:\n",
    "    g = pickle.load(f)"
   ]
  },
  {
   "cell_type": "code",
   "execution_count": 4,
   "metadata": {},
   "outputs": [],
   "source": [
    "from langchain_chroma import Chroma\n",
    "from langchain_ollama import OllamaEmbeddings\n",
    "from langchain_core.documents import Document\n",
    "\n",
    "texts = []\n",
    "metadatas = []\n",
    "ids = []\n",
    "for id, doc in g.nodes(data=True):\n",
    "    if doc[\"data\"].page_content:\n",
    "        ids.append(id)\n",
    "        metadatas.append({\"label\": doc[\"label\"]})\n",
    "        texts.append(doc[\"data\"].page_content)"
   ]
  },
  {
   "cell_type": "code",
   "execution_count": 6,
   "metadata": {},
   "outputs": [],
   "source": [
    "from src.system.rag import Retriever\n",
    "articles = {}\n",
    "articles[\"texts\"] = texts\n",
    "articles[\"ids\"] = ids\n",
    "articles[\"metadatas\"] = metadatas\n",
    "config_path = \"../config/retriever_config.yaml\"\n",
    "local_embeddings = OllamaEmbeddings(model=\"all-minilm\")\n",
    "retriever = Retriever(config_path, articles, local_embeddings)"
   ]
  },
  {
   "cell_type": "code",
   "execution_count": 16,
   "metadata": {},
   "outputs": [],
   "source": [
    "from src.system.rag import RAG\n",
    "from langchain_ollama import ChatOllama\n",
    "llm = ChatOllama(model=\"llama3\")\n",
    "\n",
    "rag_config_path = \"../config/config.yaml\"\n",
    "rag = RAG(rag_config_path, llm, retriever, g, None)"
   ]
  },
  {
   "cell_type": "code",
   "execution_count": 17,
   "metadata": {},
   "outputs": [
    {
     "name": "stdout",
     "output_type": "stream",
     "text": [
      "According to the European Patent Office (EPO) guidelines and the European Patent Convention (EPC), for an idea to be eligible for patenting, it must meet the following criteria:\n",
      "\n",
      "1. It must be an \"invention\" belonging to any field of technology.\n",
      "2. The invention must be \"susceptible of industrial application\".\n",
      "3. The invention must be \"new\".\n",
      "4. The invention must involve an \"inventive step\".\n",
      "\n",
      "Additionally, the EPO guidelines emphasize that a technical character is an implicit requisite for the presence of an \"invention\" within the meaning of Art. 52(1). This means that the idea must relate to a technical field, be concerned with a technical problem, and have technical features in terms of which the matter for which protection is sought can be defined in the claim.\n",
      "\n",
      "The two-hurdle approach is also relevant here: the first hurdle assesses whether the claimed subject-matter as a whole falls under the exclusions from patentability under Art. 52(2), while the second hurdle assesses inventive step by evaluating whether the features of the invention contribute to its technical character and solve a technical problem.\n",
      "\n",
      "Finally, it is important to note that an idea must not fall under the exclusions listed in Art. 52(2) of the EPC, such as discoveries, scientific theories, mathematical methods, aesthetic creations, schemes, rules, and methods for performing mental acts, playing games or doing business, and programs for computers."
     ]
    },
    {
     "data": {
      "text/plain": [
       "'According to the European Patent Office (EPO) guidelines and the European Patent Convention (EPC), for an idea to be eligible for patenting, it must meet the following criteria:\\n\\n1. It must be an \"invention\" belonging to any field of technology.\\n2. The invention must be \"susceptible of industrial application\".\\n3. The invention must be \"new\".\\n4. The invention must involve an \"inventive step\".\\n\\nAdditionally, the EPO guidelines emphasize that a technical character is an implicit requisite for the presence of an \"invention\" within the meaning of Art. 52(1). This means that the idea must relate to a technical field, be concerned with a technical problem, and have technical features in terms of which the matter for which protection is sought can be defined in the claim.\\n\\nThe two-hurdle approach is also relevant here: the first hurdle assesses whether the claimed subject-matter as a whole falls under the exclusions from patentability under Art. 52(2), while the second hurdle assesses inventive step by evaluating whether the features of the invention contribute to its technical character and solve a technical problem.\\n\\nFinally, it is important to note that an idea must not fall under the exclusions listed in Art. 52(2) of the EPC, such as discoveries, scientific theories, mathematical methods, aesthetic creations, schemes, rules, and methods for performing mental acts, playing games or doing business, and programs for computers.'"
      ]
     },
     "execution_count": 17,
     "metadata": {},
     "output_type": "execute_result"
    }
   ],
   "source": [
    "query = \"What does it take for an idea to be eligible for patenting?\"\n",
    "rag.run(query)"
   ]
  },
  {
   "cell_type": "code",
   "execution_count": 21,
   "metadata": {},
   "outputs": [
    {
     "name": "stdout",
     "output_type": "stream",
     "text": [
      "/home/timothee/Documents/data_challenges/PatentAssist/notebooks\n"
     ]
    },
    {
     "ename": "NameError",
     "evalue": "name '__file__' is not defined",
     "output_type": "error",
     "traceback": [
      "\u001b[31m---------------------------------------------------------------------------\u001b[39m",
      "\u001b[31mNameError\u001b[39m                                 Traceback (most recent call last)",
      "\u001b[36mCell\u001b[39m\u001b[36m \u001b[39m\u001b[32mIn[21]\u001b[39m\u001b[32m, line 5\u001b[39m\n\u001b[32m      3\u001b[39m ROOT_DIR = Path(os.getcwd())\n\u001b[32m      4\u001b[39m \u001b[38;5;28mprint\u001b[39m(ROOT_DIR)\n\u001b[32m----> \u001b[39m\u001b[32m5\u001b[39m ROOT_DIR = Path(\u001b[34;43m__file__\u001b[39;49m).resolve().parent.parent\n",
      "\u001b[31mNameError\u001b[39m: name '__file__' is not defined"
     ]
    }
   ],
   "source": [
    "from pathlib import Path\n",
    "import os\n",
    "ROOT_DIR = Path(os.getcwd())\n",
    "print(ROOT_DIR)\n",
    "ROOT_DIR = Path(__file__).resolve().parent.parent"
   ]
  },
  {
   "cell_type": "code",
   "execution_count": null,
   "metadata": {},
   "outputs": [],
   "source": []
  }
 ],
 "metadata": {
  "kernelspec": {
   "display_name": ".env",
   "language": "python",
   "name": "python3"
  },
  "language_info": {
   "codemirror_mode": {
    "name": "ipython",
    "version": 3
   },
   "file_extension": ".py",
   "mimetype": "text/x-python",
   "name": "python",
   "nbconvert_exporter": "python",
   "pygments_lexer": "ipython3",
   "version": "3.11.7"
  }
 },
 "nbformat": 4,
 "nbformat_minor": 2
}
