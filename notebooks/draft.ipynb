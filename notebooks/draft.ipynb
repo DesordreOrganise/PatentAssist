{
 "cells": [
  {
   "cell_type": "code",
   "execution_count": 1,
   "metadata": {},
   "outputs": [],
   "source": [
    "import networkx as nx\n",
    "import pickle\n",
    "\n",
    "with open(\"../resources/LegalBases/graph.pkl\", \"rb\") as f:\n",
    "    g = pickle.load(f)"
   ]
  },
  {
   "cell_type": "code",
   "execution_count": 2,
   "metadata": {},
   "outputs": [],
   "source": [
    "from langchain_chroma import Chroma\n",
    "from langchain_ollama import OllamaEmbeddings\n",
    "from langchain_core.documents import Document\n",
    "\n",
    "texts = []\n",
    "metadatas = []\n",
    "ids = []\n",
    "for id, doc in g.nodes(data=True):\n",
    "    if doc[\"data\"].page_content:\n",
    "        ids.append(id)\n",
    "        metadatas.append({\"label\": doc[\"label\"]})\n",
    "        texts.append(doc[\"data\"].page_content)"
   ]
  },
  {
   "cell_type": "code",
   "execution_count": 3,
   "metadata": {},
   "outputs": [
    {
     "name": "stderr",
     "output_type": "stream",
     "text": [
      "/home/timothee/Documents/data_challenges/PatentAssist/.env/lib/python3.11/site-packages/tqdm/auto.py:21: TqdmWarning: IProgress not found. Please update jupyter and ipywidgets. See https://ipywidgets.readthedocs.io/en/stable/user_install.html\n",
      "  from .autonotebook import tqdm as notebook_tqdm\n"
     ]
    },
    {
     "name": "stdout",
     "output_type": "stream",
     "text": [
      "🔁 Loading existing Chroma vectorstore...\n"
     ]
    }
   ],
   "source": [
    "from src.system.rag import Retriever\n",
    "articles = {}\n",
    "articles[\"texts\"] = texts\n",
    "articles[\"ids\"] = ids\n",
    "articles[\"metadatas\"] = metadatas\n",
    "config_path = \"../config/retriever_config.yaml\"\n",
    "local_embeddings = OllamaEmbeddings(model=\"nomic-embed-text\")\n",
    "retriever = Retriever(config_path, articles, local_embeddings)"
   ]
  },
  {
   "cell_type": "code",
   "execution_count": 4,
   "metadata": {},
   "outputs": [],
   "source": [
    "from src.system.rag import RAG\n",
    "from langchain_ollama import ChatOllama\n",
    "llm = ChatOllama(model=\"mistral\")\n",
    "\n",
    "rag_config_path = \"../config/config.yaml\"\n",
    "rag = RAG(rag_config_path, llm, retriever, g, None)"
   ]
  },
  {
   "cell_type": "code",
   "execution_count": 5,
   "metadata": {},
   "outputs": [
    {
     "name": "stdout",
     "output_type": "stream",
     "text": [
      "1. Company C files a European patent application for an invention which has been displayed at an officially recognized international exhibition. The certificate required according to Rule 25 EPC is obtained three months after filing the application and filed within the four-month period together with the authenticated identification of the invention. Will the certificate be accepted by the EPO?\n",
      "\n",
      "   A. Yes, if the certificate was obtained at the exhibition and filed within the specified four-month period.\n",
      "   B. No, if the certificate was not issued at the exhibition."
     ]
    }
   ],
   "source": [
    "for c in rag.generate_question(\"1. farejiou\"):\n",
    "    print(c, end='', flush=True)"
   ]
  },
  {
   "cell_type": "code",
   "execution_count": 7,
   "metadata": {},
   "outputs": [
    {
     "name": "stdout",
     "output_type": "stream",
     "text": [
      " The question asks about a European patent application filed by Company C for an invention that has been displayed at an officially recognized international exhibition. The certificate required according to Rule 25 EPC is obtained three months after filing the application and filed within the four-month period together with the authenticated identification of the invention.\n",
      "\n",
      "Let's break down the information given:\n",
      "1. Company C files a European patent application for an invention displayed at an officially recognized international exhibition.\n",
      "2. The certificate required according to Rule 25 EPC is obtained three months after filing the application and filed within the four-month period together with the authenticated identification of the invention.\n",
      "\n",
      "From this information, it's clear that the certificate was obtained three months after filing the application, which seems to comply with the rule that it should be obtained as soon as possible but not later than four months from the date of filing the application (Rule 25 EPC). The certificate was also filed within the four-month period specified in Rule 25 EPC.\n",
      "\n",
      "Therefore, based on the provided information, the answer would be A. Yes, if the certificate was obtained at the exhibition and filed within the specified four-month period. However, it's not explicitly stated that the certificate was issued at the exhibition, so we can't definitively say whether or not the certificate was accepted by the EPO without further information."
     ]
    }
   ],
   "source": [
    "question = \"\"\"1. Company C files a European patent application for an invention which has been displayed at an officially recognized international exhibition. The certificate required according to Rule 25 EPC is obtained three months after filing the application and filed within the four-month period together with the authenticated identification of the invention. Will the certificate be accepted by the EPO?\n",
    "\n",
    "   A. Yes, if the certificate was obtained at the exhibition and filed within the specified four-month period.\n",
    "   B. No, if the certificate was not issued at the exhibition.\"\"\"\n",
    "for c in rag.run_flux(question, rerank=False):\n",
    "    print(c, end='', flush=True)"
   ]
  },
  {
   "cell_type": "code",
   "execution_count": 17,
   "metadata": {},
   "outputs": [
    {
     "name": "stdout",
     "output_type": "stream",
     "text": [
      "According to the European Patent Office (EPO) guidelines and the European Patent Convention (EPC), for an idea to be eligible for patenting, it must meet the following criteria:\n",
      "\n",
      "1. It must be an \"invention\" belonging to any field of technology.\n",
      "2. The invention must be \"susceptible of industrial application\".\n",
      "3. The invention must be \"new\".\n",
      "4. The invention must involve an \"inventive step\".\n",
      "\n",
      "Additionally, the EPO guidelines emphasize that a technical character is an implicit requisite for the presence of an \"invention\" within the meaning of Art. 52(1). This means that the idea must relate to a technical field, be concerned with a technical problem, and have technical features in terms of which the matter for which protection is sought can be defined in the claim.\n",
      "\n",
      "The two-hurdle approach is also relevant here: the first hurdle assesses whether the claimed subject-matter as a whole falls under the exclusions from patentability under Art. 52(2), while the second hurdle assesses inventive step by evaluating whether the features of the invention contribute to its technical character and solve a technical problem.\n",
      "\n",
      "Finally, it is important to note that an idea must not fall under the exclusions listed in Art. 52(2) of the EPC, such as discoveries, scientific theories, mathematical methods, aesthetic creations, schemes, rules, and methods for performing mental acts, playing games or doing business, and programs for computers."
     ]
    },
    {
     "data": {
      "text/plain": [
       "'According to the European Patent Office (EPO) guidelines and the European Patent Convention (EPC), for an idea to be eligible for patenting, it must meet the following criteria:\\n\\n1. It must be an \"invention\" belonging to any field of technology.\\n2. The invention must be \"susceptible of industrial application\".\\n3. The invention must be \"new\".\\n4. The invention must involve an \"inventive step\".\\n\\nAdditionally, the EPO guidelines emphasize that a technical character is an implicit requisite for the presence of an \"invention\" within the meaning of Art. 52(1). This means that the idea must relate to a technical field, be concerned with a technical problem, and have technical features in terms of which the matter for which protection is sought can be defined in the claim.\\n\\nThe two-hurdle approach is also relevant here: the first hurdle assesses whether the claimed subject-matter as a whole falls under the exclusions from patentability under Art. 52(2), while the second hurdle assesses inventive step by evaluating whether the features of the invention contribute to its technical character and solve a technical problem.\\n\\nFinally, it is important to note that an idea must not fall under the exclusions listed in Art. 52(2) of the EPC, such as discoveries, scientific theories, mathematical methods, aesthetic creations, schemes, rules, and methods for performing mental acts, playing games or doing business, and programs for computers.'"
      ]
     },
     "execution_count": 17,
     "metadata": {},
     "output_type": "execute_result"
    }
   ],
   "source": [
    "query = \"What does it take for an idea to be eligible for patenting?\"\n",
    "rag.run(query)"
   ]
  },
  {
   "cell_type": "code",
   "execution_count": 21,
   "metadata": {},
   "outputs": [
    {
     "name": "stdout",
     "output_type": "stream",
     "text": [
      "/home/timothee/Documents/data_challenges/PatentAssist/notebooks\n"
     ]
    },
    {
     "ename": "NameError",
     "evalue": "name '__file__' is not defined",
     "output_type": "error",
     "traceback": [
      "\u001b[31m---------------------------------------------------------------------------\u001b[39m",
      "\u001b[31mNameError\u001b[39m                                 Traceback (most recent call last)",
      "\u001b[36mCell\u001b[39m\u001b[36m \u001b[39m\u001b[32mIn[21]\u001b[39m\u001b[32m, line 5\u001b[39m\n\u001b[32m      3\u001b[39m ROOT_DIR = Path(os.getcwd())\n\u001b[32m      4\u001b[39m \u001b[38;5;28mprint\u001b[39m(ROOT_DIR)\n\u001b[32m----> \u001b[39m\u001b[32m5\u001b[39m ROOT_DIR = Path(\u001b[34;43m__file__\u001b[39;49m).resolve().parent.parent\n",
      "\u001b[31mNameError\u001b[39m: name '__file__' is not defined"
     ]
    }
   ],
   "source": [
    "from pathlib import Path\n",
    "import os\n",
    "ROOT_DIR = Path(os.getcwd())\n",
    "print(ROOT_DIR)\n",
    "ROOT_DIR = Path(__file__).resolve().parent.parent"
   ]
  },
  {
   "cell_type": "code",
   "execution_count": 1,
   "metadata": {},
   "outputs": [
    {
     "data": {
      "text/plain": [
       "[6, 4, 1]"
      ]
     },
     "execution_count": 1,
     "metadata": {},
     "output_type": "execute_result"
    }
   ],
   "source": [
    "s = [1, 4, 6]\n",
    "sorted(s, reverse=True)"
   ]
  },
  {
   "cell_type": "code",
   "execution_count": 49,
   "metadata": {},
   "outputs": [
    {
     "name": "stderr",
     "output_type": "stream",
     "text": [
      "Some weights of BertForSequenceClassification were not initialized from the model checkpoint at BAAI/bge-large-en and are newly initialized: ['classifier.bias', 'classifier.weight']\n",
      "You should probably TRAIN this model on a down-stream task to be able to use it for predictions and inference.\n",
      "You're using a BertTokenizerFast tokenizer. Please note that with a fast tokenizer, using the `__call__` method is faster than using a method to encode the text followed by a call to the `pad` method to get a padded encoding.\n"
     ]
    },
    {
     "name": "stdout",
     "output_type": "stream",
     "text": [
      "[0.059539794921875]\n",
      "[0.5148805530426933]\n",
      "[0.0077667236328125, -0.007549285888671875]\n",
      "[0.5019416711477563, 0.4981126874912553]\n"
     ]
    }
   ],
   "source": [
    "from FlagEmbedding import FlagReranker\n",
    "reranker = FlagReranker('BAAI/bge-large-en', use_fp16=True) # Setting use_fp16 to True speeds up computation with a slight performance degradation\n",
    "\n",
    "score = reranker.compute_score(['query', 'passage'])\n",
    "print(score) # -5.65234375\n",
    "\n",
    "# You can map the scores into 0-1 by set \"normalize=True\", which will apply sigmoid function to the score\n",
    "score = reranker.compute_score(['query', 'passage'], normalize=True)\n",
    "print(score) # 0.003497010252573502\n",
    "\n",
    "scores = reranker.compute_score([['what is panda?', 'hi'], ['what is panda?', 'The giant panda (Ailuropoda melanoleuca), sometimes called a panda bear or simply panda, is a bear species endemic to China.']])\n",
    "print(scores) # [-8.1875, 5.26171875]\n",
    "\n",
    "# You can map the scores into 0-1 by set \"normalize=True\", which will apply sigmoid function to the score\n",
    "scores = reranker.compute_score([['what is panda?', 'hi'], ['what is panda?', 'The giant panda (Ailuropoda melanoleuca), sometimes called a panda bear or simply panda, is a bear species endemic to China.']], normalize=True)\n",
    "print(scores) # [0.00027803096387751553, 0.9948403768236574]\n"
   ]
  },
  {
   "cell_type": "code",
   "execution_count": 24,
   "metadata": {},
   "outputs": [
    {
     "name": "stdout",
     "output_type": "stream",
     "text": [
      "loading files\n",
      "Loading embeddings\n",
      "Loading retriever\n",
      "🔁 Loading existing Chroma vectorstore...\n",
      "🆕 Building new Chroma vectorstore...\n"
     ]
    }
   ],
   "source": [
    "from src.utils.preprocessing import Dataset,  EQE_Dataset_Explaination\n",
    "from src.utils.evaluation import EvaluationFramework\n",
    "from src.utils.metrics_retriever.nDCG import NDCG_articles, NDCG_rules, NDCG\n",
    "from src.utils.metrics_retriever.Precision_K import Precision_K_articles, Precision_K_rules, Precision_K\n",
    "from src.utils.metrics_retriever.Recall_K import Recall_K_articles, Recall_K_rules, Recall_K\n",
    "from src.system.rag import Retriever\n",
    "from src.system.rag_adapter import Retriever_Adapter\n",
    "from src.utils.tools import extract_articles, extract_rules, clean_article, clean_rule\n",
    "from langchain_ollama import OllamaEmbeddings\n",
    "import pickle\n",
    "import os\n",
    "\n",
    "Folder_Path = [\"../resources/EQE_PaperD/\", \"../resources/EQE_PreEx/\"]\n",
    "files = []\n",
    "# files.extend([Folder_Path[0] + file for file in os.listdir(Folder_Path[0]) if file.endswith(\"_documentLess.json\")])\n",
    "\n",
    "files = [Folder_Path[0] + file for file in os.listdir(Folder_Path[0]) if file.endswith(\"_documentLess.json\")]\n",
    "\n",
    "files.extend([\"../resources/EQE_PreEx/EQE_2021_PreEx_final_documentLess.json\", \"../resources/EQE_PreEx/EQE_2022_PreEx_final_documentLess.json\"])\n",
    "dataset = EQE_Dataset_Explaination(files)\n",
    "test_data = dataset.get_dataset()\n",
    "\n",
    "\n",
    "# initializing metrics\n",
    "metrics = [\n",
    "    Precision_K(4),\n",
    "    Recall_K(4),\n",
    "    NDCG(),\n",
    "\n",
    "    # Precision_K_articles(4),\n",
    "    # Recall_K_articles(4),\n",
    "    # NDCG_articles(),\n",
    "    #\n",
    "    # Precision_K_rules(4),\n",
    "    # Recall_K_rules(4),\n",
    "    # NDCG_rules(),\n",
    "]\n",
    "\n",
    "with open(\"../resources/LegalBases/graph.pkl\", \"rb\") as f:\n",
    "        g = pickle.load(f)\n",
    "\n",
    "print('loading files')\n",
    "texts = []\n",
    "metadatas = []\n",
    "ids = []\n",
    "for id, doc in g.nodes(data=True):\n",
    "    if doc[\"data\"].page_content and doc[\"label\"] != \"Guideline\":\n",
    "        ids.append(id)\n",
    "        metadatas.append({\"label\": doc[\"label\"]})\n",
    "        texts.append(doc[\"data\"].page_content)\n",
    "articles = {}\n",
    "articles[\"texts\"] = texts\n",
    "articles[\"ids\"] = ids\n",
    "articles[\"metadatas\"] = metadatas\n",
    "config_path = \"../config/retriever_config.yaml\"\n",
    "print(\"Loading embeddings\")\n",
    "local_embeddings = OllamaEmbeddings(model=\"nomic-embed-text\")\n",
    "#local_embeddings = HuggingFaceEmbeddings(model_name=\"sentence-transformers/all-mpnet-base-v2\")\n",
    "print(\"Loading retriever\")\n",
    "retriever = Retriever(config_path, articles, local_embeddings)\n",
    "retriever.purge_store()\n",
    "\n",
    "system = Retriever_Adapter(retriever, rerank=True)\n",
    "\n",
    "\n",
    "examples = []\n",
    "for _, sample in test_data.iterrows():\n",
    "    ground_truth = sample[\"Y\"]\n",
    "    docs = retriever.retrieve_documents(sample[\"X\"], rerank=False)\n",
    "    gt_articles = extract_articles(ground_truth)\n",
    "    gt_rules = extract_rules(ground_truth)\n",
    "\n",
    "    gt = [clean_rule(rule) for rule in gt_rules]\n",
    "    gt.extend([clean_article(article) for article in gt_articles])\n",
    "    examples.append(([doc for doc in docs], gt))"
   ]
  },
  {
   "cell_type": "code",
   "execution_count": 50,
   "metadata": {},
   "outputs": [
    {
     "data": {
      "text/plain": [
       "([Document(id='Article 100', metadata={'label': 'Article'}, page_content='Opposition may only be filed on the grounds that:\\n(a) the subject-matter of the European patent is not patentable under Articles Article 52 to Article 57;\\n(b) the European patent does not disclose the invention in a manner sufficiently clear and complete for it to be carried out by a person skilled in the art; \\n(c) the subject-matter of the European patent extends beyond the content of the application as filed, or, if the patent was granted on a divisional application or on a new application filed under Article 61, beyond the content of the earlier application as filed.\\n\\n\\n105See decisions/opinions of the Enlarged Board of Appeal G 3/89, G 10/91, G 11/91, G 1/95, G 2/95, G 7/95, G 1/99, G 3/04 (Annex I).'),\n",
       "  Document(id='Article 69', metadata={'label': 'Article'}, page_content='(1) The extent of the protection conferred by a European patent or a European patent application shall be determined by the claims. Nevertheless, the description and drawings shall be used to interpret the claims. \\n(2) For the period up to grant of the European patent, the extent of the protection conferred by the European patent application shall be determined by the claims contained in the application as published. However, the European patent as granted or as amended in opposition, limitation or revocation proceedings shall determine retroactively the protection conferred by the application, in so far as such protection is not thereby extended. \\n\\n\\n61Amended by the Act revising the European Patent Convention of 29.11.2000.  The Protocol on the Interpretation of Article 69 EPC is an integral part of the Convention pursuant to Article 164, paragraph 1.62See decisions of the Enlarged Board of Appeal G 2/88, G 6/88 (Annex I).'),\n",
       "  Document(id='Article 67', metadata={'label': 'Article'}, page_content='(1) A European patent application shall, from the date of its publication, provisionally confer upon the applicant the protection provided for by Article 64, in the Contracting States designated in the application.\\n(2) Any Contracting State may prescribe that a European patent application shall not confer such protection as is conferred by Article 64. However, the protection attached to the publication of the European patent application may not be less than that which the laws of the State concerned attach to the compulsory publication of unexamined national patent applications. In any event, each State shall ensure at least that, from the date of publication of a European patent application, the applicant can claim compensation reasonable in the circumstances from any person who has used the invention in that State in circumstances where that person would be liable under national law for infringement of a national patent.\\n(3) Any Contracting State which does not have as an official language the language of the proceedings may prescribe that provisional protection in accordance with paragraphs 1 and 2 above shall not be effective until such time as a translation of the claims in one of its official languages at the option of the applicant or, where that State has prescribed the use of one specific official language, in that language:\\n(a) has been made available to the public in the manner prescribed by national law, or \\n(b) has been communicated to the person using the invention in the said State. \\n(4) The European patent application shall be deemed never to have had the effects set out in paragraphs 1 and 2 when it has been withdrawn, deemed to be withdrawn or finally refused. The same shall apply in respect of the effects of the European patent application in a Contracting State the designation of which is withdrawn or deemed to be withdrawn.\\n\\n\\n58Amended by the Act revising the European Patent Convention of 29.11.2000.59See opinion of the Enlarged Board of Appeal G 4/98 (Annex I).'),\n",
       "  Document(id='Rule 81', metadata={'label': 'Rule'}, page_content=\"(1)119 The Opposition Division shall examine those grounds for opposition which are invoked in the opponent's statement under Rule 76, paragraph 2(c). Grounds for opposition not invoked by the opponent may be examined by the Opposition Division of its own motion if they would prejudice the maintenance of the European patent. \\n(2) Communications under Article 101, paragraph 1, second sentence, and all replies thereto shall be sent to all parties. If the Opposition Division considers this expedient, it shall invite the parties to reply within a period to be specified. \\n(3) In any communication under Article 101, paragraph 1, second sentence, the proprietor of the European patent shall, where necessary, be given the opportunity to amend, where appropriate, the description, claims and drawings. Where necessary, the communication shall contain a reasoned statement covering the grounds against the maintenance of the European patent.\\n\\n\\n118See decisions of the Enlarged Board of Appeal G 9/92, G 1/99 (Annex I).119See notice from the EPO of 17.03.2008 (OJ EPO 2008, 221) from the EPO of 07.11.2023 concerning accelerated processing of oppositions where an infringement or revocation action has been instituted before the Unified Patent Court or a national court or competent authority of a contracting state (OJ EPO 2023, A99).\"),\n",
       "  Document(id='Article 123', metadata={'label': 'Article'}, page_content='(1) The European patent application or European patent may be amended in proceedings before the European Patent Office, in accordance with the Implementing Regulations. In any event, the applicant shall be given at least one opportunity to amend the application of his own volition. \\n(2) The European patent application or European patent may not be amended in such a way that it contains subject-matter which extends beyond the content of the application as filed. \\n(3) The European patent may not be amended in such a way as to extend the protection it confers. \\n\\n\\n143Amended by the Act revising the European Patent Convention of 29.11.2000.144See decisions of the Enlarged Board of Appeal G 2/88, G 3/89, G 11/91, G 1/93, G 2/95, G 2/98, G 1/99, G 1/03, G 2/03, G 1/05, G 2/10, G 3/14, G 1/15, G 1/16 (Annex I).'),\n",
       "  Document(id='Rule 48', metadata={'label': 'Rule'}, page_content='(1) The European patent application shall not contain: \\n(a) statements or other matter contrary to \"ordre public\" or morality; \\n(b) statements disparaging the products or processes of any third party or the merits or validity of the applications or patents of any such party. Mere comparisons with the prior art shall not be considered disparaging per se; \\n(c) any statement or other matter obviously irrelevant or unnecessary under the circumstances. \\n(2) If the application contains matter prohibited under paragraph 1(a), the European Patent Office may omit such matter from the application as published, indicating the place and number of words or drawings omitted.\\n(3) If the application contains statements referred to in paragraph 1(b), the European Patent Office may omit them from the application as published, indicating the place and number of words omitted. Upon request, the European Patent Office shall furnish a copy of the passages omitted.'),\n",
       "  Document(id='Article 61', metadata={'label': 'Article'}, page_content='(1) If by a final decision it is adjudged that a person other than the applicant is entitled to the grant of the European patent, that person may, in accordance with the Implementing Regulations: \\n(a) prosecute the European patent application as his own application in place of the applicant; \\n(b) file a new European patent application in respect of the same invention; or \\n(c) request that the European patent application be refused. \\n(2) Article 76, paragraph 1, shall apply mutatis mutandis to a new European patent application filed under paragraph 1(b).\\n\\n\\n51Amended by the Act revising the European Patent Convention of 29.11.2000.52See decision of the Enlarged Board of Appeal G 3/92 (Annex I).'),\n",
       "  Document(id='Rule 31', metadata={'label': 'Rule'}, page_content='(1) If an invention involves the use of or concerns biological material which is not available to the public and which cannot be described in the European patent application in such a manner as to enable the invention to be carried out by a person skilled in the art, the invention shall only be regarded as being disclosed as prescribed in Article 83 if:\\n(a) a sample of the biological material has been deposited with a recognised depositary institution on the same terms as those laid down in the Budapest Treaty on the International Recognition of the Deposit of Microorganisms for the Purposes of Patent Procedure of 28 April 1977 not later than the date of filing of the application; \\n(b) the application as filed gives such relevant information as is available to the applicant on the characteristics of the biological material; \\n(c) the depositary institution and the accession number of the deposited biological material are stated in the application, and \\n(d) where the biological material has been deposited by a person other than the applicant, the name and address of the depositor are stated in the application and a document is submitted to the European Patent Office providing evidence that the depositor has authorised the applicant to refer to the deposited biological material in the application and has given his unreserved and irrevocable consent to the deposited material being made available to the public in accordance with Rule 33.\\n(2) The information referred to in paragraph 1(c) and paragraph 1(d) may be submitted\\n(a) within sixteen months after the date of filing of the application or, if priority has been claimed, after the priority date, this period being deemed to have been observed if the information is communicated before completion of the technical preparations for publication of the European patent application; \\n(b) up to the date of submission of a request under Article 93, paragraph 1(b);\\n(c) within one month after the European Patent Office has communicated to the applicant that the right to inspect the files under Article 128, paragraph 2, exists.\\nThe ruling period shall be the one which is the first to expire. The communication of this information shall be considered as constituting the unreserved and irrevocable consent of the applicant to the deposited biological material being made available to the public in accordance with Rule 33.\\n\\n\\n47See notice from the EPO of 07.07.2010 (OJ EPO 2010, 498).48See decision of the Enlarged Board of Appeal G 2/93 (Annex I).'),\n",
       "  Document(id='Article 138', metadata={'label': 'Article'}, page_content='(1) Subject to Article 139, a European patent may be revoked with effect for a Contracting State only on the grounds that:\\n(a) the subject-matter of the European patent is not patentable under Articles 52 to Article 57;\\n(b) the European patent does not disclose the invention in a manner sufficiently clear and complete for it to be carried out by a person skilled in the art; \\n(c)168 the subject-matter of the European patent extends beyond the content of the application as filed or, if the patent was granted on a divisional application or on a new application filed under Article 61, beyond the content of the earlier application as filed;\\n(d) the protection conferred by the European patent has been extended; or \\n(e) the proprietor of the European patent is not entitled under Article 60, paragraph 1.\\n(2) If the grounds for revocation affect the European patent only in part, the patent shall be limited by a corresponding amendment of the claims and revoked in part.  \\n(3) In proceedings before the competent court or authority relating to the validity of the European patent, the proprietor of the patent shall have the right to limit the patent by amending the claims. The patent as thus limited shall form the basis for the proceedings. \\n\\n\\n167Amended by the Act revising the European Patent Convention of 29.11.2000.168See decisions/opinions of the Enlarged Board of Appeal G 3/89, G 11/91, G 2/95 (Annex I).'),\n",
       "  Document(id='Article 94', metadata={'label': 'Article'}, page_content='(1) The European Patent Office shall, in accordance with the Implementing Regulations, examine on request whether the European patent application and the invention to which it relates meet the requirements of this Convention. The request shall not be deemed to be filed until the examination fee has been paid.96\\n(2) If no request for examination has been made in due time, the application shall be deemed to be withdrawn. \\n(3) If the examination reveals that the application or the invention to which it relates does not meet the requirements of this Convention, the Examining Division shall invite the applicant, as often as necessary, to file his observations and, subject to Article 123, paragraph 1, to amend the application.\\n(4) If the applicant fails to reply in due time to any communication from the Examining Division, the application shall be deemed to be withdrawn. \\n\\n\\n94Amended by the Act revising the European Patent Convention of 29.11.2000.95See notice from the EPO concerning the programme for accelerated prosecution of European patent applications \"PACE\" (OJ EPO 2015, A93) and notice from the EPO concerning ways to expedite the European grant procedure (OJ EPO 2015, A94).96See notice from the EPO (OJ EPO 2016, A20).'),\n",
       "  Document(id='Article 75', metadata={'label': 'Article'}, page_content=\"(1) A European patent application may be filed: \\n(a)66 with the European Patent Office, or \\n(b)67 if the law of a Contracting State so permits, and subject to Article 76, paragraph 1, with the central industrial property office or other competent authority of that State. Any application filed in this way shall have the same effect as if it had been filed on the same date with the European Patent Office.\\n(2) Paragraph 1 shall not preclude the application of legislative or regulatory provisions which, in any Contracting State:\\n(a) govern inventions which, owing to the nature of their subject-matter, may not be communicated abroad without the prior authorisation of the competent authorities of that State, or \\n(b) prescribe that any application is to be filed initially with a national authority, or make direct filing with another authority subject to prior authorisation. \\n\\n\\n65Amended by the Act revising the European Patent Convention of 29.11.2000.66See decision of the President of the EPO of 03.01.2017 designating the EPO's filing offices (OJ EPO 2017, A11), notice from the EPO of 14.02.2018 concerning the availability of the EPO filing offices (OJ EPO 2018, A18) and notice from the EPO of 16.03.2018 concerning the closing of the mailroom at its headquarters in Munich (OJ EPO 2018, A27).67See notice from the EPO of 30.01.2018 concerning changes to the filing options available in Belgium for European patent applications and international applications (OJ EPO 2018, A17) and notice from the EPO of 20.11.2019 concerning changes to the filing options available in San Marino for European patent applications and international applications (OJ EPO 2019, A96).\"),\n",
       "  Document(id='Rule 96', metadata={'label': 'Rule'}, page_content='The amended European patent specification shall include the description, claims and drawings as amended. Rule 73, paragraphs 2 and Rule 73, paragraphs 3, and Rule 74 shall apply.'),\n",
       "  Document(id='Rule 137', metadata={'label': 'Rule'}, page_content='(1) Before receiving the European search report, the applicant may not amend the description, claims or drawings of a European patent application unless otherwise provided. \\n(2) Together with any comments, corrections or amendments made in response to communications by the European Patent Office under Rule 70a, paragraph 1 or Rule 70a, paragraph 2, or Rule 161, paragraph 1, the applicant may amend the description, claims and drawings of his own volition.\\n(3) No further amendment may be made without the consent of the Examining Division. \\n(4) When filing any amendments referred to in paragraphs 1 to 3, the applicant shall identify them and indicate the basis for them in the application as filed. If the Examining Division notes a failure to meet either requirement, it may request the correction of this deficiency within a period of one month.\\n(5) Amended claims may not relate to unsearched subject-matter which does not combine with the originally claimed invention or group of inventions to form a single general inventive concept. Nor may they relate to subject-matter not searched in accordance with Rule 62a or Rule 63.\\n\\n\\n165See opinion/decision of the Enlarged Board of Appeal G 3/89, G 11/91 (Annex I).166Amended by decision of the Administrative Council CA/D 3/09 of 25.03.2009 (OJ EPO 2009, 299), which entered into force on 01.04.2010.'),\n",
       "  Document(id='Article 63', metadata={'label': 'Article'}, page_content='(1) The term of the European patent shall be 20 years from the date of filing of the application. \\n(2) Nothing in the preceding paragraph shall limit the right of a Contracting State to extend the term of a European patent, or to grant corresponding protection which follows immediately on expiry of the term of the patent, under the same conditions as those applying to national patents: \\n(a) in order to take account of a state of war or similar emergency conditions affecting that State; \\n(b) if the subject-matter of the European patent is a product or a process for manufacturing a product or a use of a product which has to undergo an administrative authorisation procedure required by law before it can be put on the market in that State. \\n(3) Paragraph 2 shall apply mutatis mutandis to European patents granted jointly for a group of Contracting States in accordance with Article 142.\\n(4) A Contracting State which makes provision for extension of the term or corresponding protection under paragraph 2(b) may, in accordance with an agreement concluded with the Organisation, entrust to the European Patent Office tasks associated with implementation of the relevant provisions.\\n\\n\\n53Amended by the Act revising Article 63 EPC of 17.12.1991, which entered into force on 04.07.1997 (OJ EPO 1992, 1 ff).'),\n",
       "  Document(id='Rule 73', metadata={'label': 'Rule'}, page_content='(1) The specification of the European patent shall include the description, the claims and any drawings. It shall also indicate the period for opposing the European patent.  \\n(2) The President of the European Patent Office shall determine the form of the publication of the specification and the data to be included. \\n(3) The designated Contracting States shall be indicated in the specification. \\n\\n\\n110See decisions of the President of the EPO of 12.07.2007 concerning the form of publication of European patent applications, European search reports and European patent specifications (Special edition No. 3, OJ EPO 2007, D.3) and on the summary listing of references cited by the applicant in European patent applications and European patent specifications (Special edition No. 3, OJ EPO 2007, D.4).'),\n",
       "  Document(id='Article 55', metadata={'label': 'Article'}, page_content='(1) For the application of Article 54, a disclosure of the invention shall not be taken into consideration if it occurred no earlier than six months preceding the filing of the European patent application and if it was due to, or in consequence of:\\n(a)45 an evident abuse in relation to the applicant or his legal predecessor, or \\n(b) the fact that the applicant or his legal predecessor has displayed the invention at an official, or officially recognised, international exhibition falling within the terms of the Convention on international exhibitions signed at Paris on 22 November 1928 and last revised on 30 November 1972. \\n(2) In the case of paragraph 1(b), paragraph 1 shall apply only if the applicant states, when filing the European patent application, that the invention has been so displayed and files a supporting certificate within the time limit and under the conditions laid down in the Implementing Regulations.\\n\\n\\n45See decisions of the Enlarged Board of Appeal G 3/98, G 2/99 (Annex I).'),\n",
       "  Document(id='Article 78', metadata={'label': 'Article'}, page_content='(1) A European patent application shall contain: \\n(a) a request for the grant of a European patent; \\n(b) a description of the invention; \\n(c) one or more claims; \\n(d) any drawings referred to in the description or the claims; \\n(e) an abstract, \\nand satisfy the requirements laid down in the Implementing Regulations.\\n(2)72 A European patent application shall be subject to the payment of the filing fee and the search fee. If the filing fee or the search fee is not paid in due time, the application shall be deemed to be withdrawn.  \\n\\n\\n71Amended by the Act revising the European Patent Convention of 29.11.2000.72See notice from the EPO (OJ EPO 2016, A20).'),\n",
       "  Document(id='Article 54', metadata={'label': 'Article'}, page_content='(1) An invention shall be considered to be new if it does not form part of the state of the art. \\n(2) The state of the art shall be held to comprise everything made available to the public by means of a written or oral description, by use, or in any other way, before the date of filing of the European patent application. \\n(3) Additionally, the content of European patent applications as filed, the dates of filing of which are prior to the date referred to in paragraph 2 and which were published on or after that date, shall be considered as comprised in the state of the art.\\n(4) Paragraphs 2 and 3 shall not exclude the patentability of any substance or composition, comprised in the state of the art, for use in a method referred to in Article 53(c), provided that its use for any such method is not comprised in the state of the art.\\n(5)44 Paragraphs 2 and 3 shall also not exclude the patentability of any substance or composition referred to in paragraph 4 for any specific use in a method referred to in Article 53(c), provided that such use is not comprised in the state of the art.\\n\\n\\n42Amended by the Act revising the European Patent Convention of 29.11.2000.43See decisions/opinions of the Enlarged Board of Appeal G 2/88, G 6/88, G 1/92, G 3/93, G 1/98, G 2/98, G 3/98, G 2/99, G 1/03, G 2/03, G 2/08, G 1/16 (Annex I).44See notice from the EPO of 20.09.2010 (OJ EPO 2010, 514).'),\n",
       "  Document(id='Article 83', metadata={'label': 'Article'}, page_content='The European patent application shall disclose the invention in a manner sufficiently clear and complete for it to be carried out by a person skilled in the art.\\n\\n\\n78See decision/opinion of the Enlarged Board of Appeal G 2/93, G 2/98 (Annex I).'),\n",
       "  Document(id='Article 53', metadata={'label': 'Article'}, page_content='European patents shall not be granted in respect of: \\n(a) inventions the commercial exploitation of which would be contrary to \"ordre public\" or morality; such exploitation shall not be deemed to be so contrary merely because it is prohibited by law or regulation in some or all of the Contracting States;  \\n(b) plant or animal varieties or essentially biological processes for the production of plants or animals; this provision shall not apply to microbiological processes or the products thereof; \\n(c) methods for treatment of the human or animal body by surgery or therapy and diagnostic methods practised on the human or animal body; this provision shall not apply to products, in particular substances or compositions, for use in any of these methods. \\n\\n\\n40Amended by the Act revising the European Patent Convention of 29.11.2000.41See decisions/opinion of the Enlarged Board of Appeal G 3/95, G 1/98, G 1/03, G 2/03, G 1/04, G 2/06, G 1/07, G 2/07, G 1/08, G 2/08, G 1/16, G 3/19 (Annex I).')],\n",
       " ['art54', 'art100', 'art123'])"
      ]
     },
     "execution_count": 50,
     "metadata": {},
     "output_type": "execute_result"
    }
   ],
   "source": [
    "s = 11\n",
    "examples[s]"
   ]
  },
  {
   "cell_type": "code",
   "execution_count": 51,
   "metadata": {},
   "outputs": [],
   "source": [
    "scores = reranker.compute_score([[test_data.iloc[s-1][\"X\"], doc.page_content] for doc in examples[s][0]])"
   ]
  },
  {
   "cell_type": "code",
   "execution_count": 52,
   "metadata": {},
   "outputs": [
    {
     "data": {
      "text/plain": [
       "['Article 75',\n",
       " 'Article 61',\n",
       " 'Article 63',\n",
       " 'Article 67',\n",
       " 'Rule 48',\n",
       " 'Article 78',\n",
       " 'Article 123',\n",
       " 'Rule 31',\n",
       " 'Rule 81',\n",
       " 'Article 54',\n",
       " 'Rule 96',\n",
       " 'Article 94',\n",
       " 'Article 100',\n",
       " 'Article 138',\n",
       " 'Article 83',\n",
       " 'Rule 73',\n",
       " 'Article 53',\n",
       " 'Article 69',\n",
       " 'Rule 137',\n",
       " 'Article 55']"
      ]
     },
     "execution_count": 52,
     "metadata": {},
     "output_type": "execute_result"
    }
   ],
   "source": [
    "[doc.id for doc, _ in sorted(zip(examples[s][0], scores), key=lambda x: x[1], reverse=True)]"
   ]
  },
  {
   "cell_type": "code",
   "execution_count": null,
   "metadata": {},
   "outputs": [],
   "source": []
  }
 ],
 "metadata": {
  "kernelspec": {
   "display_name": ".env",
   "language": "python",
   "name": "python3"
  },
  "language_info": {
   "codemirror_mode": {
    "name": "ipython",
    "version": 3
   },
   "file_extension": ".py",
   "mimetype": "text/x-python",
   "name": "python",
   "nbconvert_exporter": "python",
   "pygments_lexer": "ipython3",
   "version": "3.11.7"
  }
 },
 "nbformat": 4,
 "nbformat_minor": 2
}
