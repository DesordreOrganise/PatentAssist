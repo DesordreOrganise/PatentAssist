{
 "cells": [
  {
   "cell_type": "code",
   "execution_count": 1,
   "metadata": {},
   "outputs": [],
   "source": [
    "import networkx as nx\n",
    "import pickle\n",
    "\n",
    "with open(\"../resources/LegalBases/graph.pkl\", \"rb\") as f:\n",
    "    g = pickle.load(f)"
   ]
  },
  {
   "cell_type": "code",
   "execution_count": 4,
   "metadata": {},
   "outputs": [],
   "source": [
    "from langchain_chroma import Chroma\n",
    "from langchain_ollama import OllamaEmbeddings\n",
    "from langchain_core.documents import Document\n",
    "\n",
    "texts = []\n",
    "metadatas = []\n",
    "ids = []\n",
    "for id, doc in g.nodes(data=True):\n",
    "    if doc[\"data\"].page_content:\n",
    "        ids.append(id)\n",
    "        metadatas.append({\"label\": doc[\"label\"]})\n",
    "        texts.append(doc[\"data\"].page_content)"
   ]
  },
  {
   "cell_type": "code",
   "execution_count": 6,
   "metadata": {},
<<<<<<< Updated upstream
   "outputs": [],
=======
   "outputs": [
    {
     "name": "stderr",
     "output_type": "stream",
     "text": [
      "/home/nico/Documents/Ing3/PatentAssist/.venv/lib64/python3.13/site-packages/tqdm/auto.py:21: TqdmWarning: IProgress not found. Please update jupyter and ipywidgets. See https://ipywidgets.readthedocs.io/en/stable/user_install.html\n",
      "  from .autonotebook import tqdm as notebook_tqdm\n"
     ]
    },
    {
     "name": "stdout",
     "output_type": "stream",
     "text": [
      "🔁 Loading existing Chroma vectorstore...\n"
     ]
    }
   ],
>>>>>>> Stashed changes
   "source": [
    "from src.system.rag import Retriever\n",
    "articles = {}\n",
    "articles[\"texts\"] = texts\n",
    "articles[\"ids\"] = ids\n",
    "articles[\"metadatas\"] = metadatas\n",
    "config_path = \"../config/retriever_config.yaml\"\n",
    "local_embeddings = OllamaEmbeddings(model=\"all-minilm\")\n",
    "retriever = Retriever(config_path, articles, local_embeddings)"
   ]
  },
  {
   "cell_type": "code",
   "execution_count": 16,
   "metadata": {},
   "outputs": [],
   "source": [
    "from src.system.rag import RAG\n",
    "from langchain_ollama import ChatOllama\n",
<<<<<<< Updated upstream
    "llm = ChatOllama(model=\"llama3\")\n",
=======
    "llm = ChatOllama(model=\"gemma3:4b\", temperature=0.7)\n",
>>>>>>> Stashed changes
    "\n",
    "rag_config_path = \"../config/config.yaml\"\n",
    "rag = RAG(rag_config_path, llm, retriever, g, None)"
   ]
  },
  {
   "cell_type": "code",
<<<<<<< Updated upstream
=======
   "execution_count": 7,
   "metadata": {},
   "outputs": [
    {
     "name": "stdout",
     "output_type": "stream",
     "text": [
      "Roberto and Mario are Brazilian citizens living in São Paolo, Brazil. They are the  applicants for European patent application EP1, which has been filed today in  Portuguese together with a French translation. EP1 claims the priority of a previous  Brazilian application P1. Starting from the same conditions as outlined above in  Question 5 and assuming now Assuming now that Roberto and Mario intend to file a  divisional application EP1-DIV relating to the pending patent application EP1, indicate  whether the following statements are true or false.\n",
      "1. EP1-DIV may be validly filed with the EPO at the filing offices in Munich, The Hague and Vienna.\n",
      "2. EP1-DIV may be validly filed in Portuguese.\n",
      "3. EP1-DIV may be validly filed in English.\n",
      "4. EP1-DIV must be filed within 12 months from the filing date of EP1.\n",
      "\n",
      "\t- Question Example :European patent application EP-P was filed as a first filing on 16  December 2018. EP-P was published on 17 June 2020. Application EP-  P-DIV1 was filed with the EPO on 06 December 2019 as a divisional  application from EP-P. A second divisional application from EP-P (EP-P-  DIV2) was filed with the EPO on 06 November 2020. Today, EP-P is still  pending. Some of the claims of EP-P-DIV2 contain subject-matter that  was not originally disclosed in EP-P.      For each of the statements 3.1 – 3.4, indicate on the answer sheet  whether the statement is true or false:\n",
      "1. EP-P-DIV1 was not validly filed as a divisional application of EP-P, because EP-P-DIV1 was filed before the publication of EP-P.\n",
      "2. If EP-P was filed in Portuguese and translated into English, EP-P- DIV1 must be filed in English.\n",
      "3. For EP-P-DIV2 an additional fee as part of the filing fee for a divisional application of a second generation had to be paid.\n",
      "4. EP-P will be regarded as prior art under Art. 54(2) EPC against EP- P-DIV2.\n",
      "\n",
      "\t- Question Example : \n",
      " \n",
      "A European patent application EP-A is refused in a decision dated 1 June 2023. Today is 15 \n",
      "July 2023. Is it still possible to file a divisional application from EP-A?  \n",
      "A.​\n",
      "Yes. \n",
      "B.​\n",
      "No. \n",
      "C.​\n",
      "Only if the decision to refuse the application is appealed.\n",
      "The following question relates to divisional applications.\n",
      "\n",
      "A European patent application EP-A was filed on 1 January 2022. A divisional application EP1-DIV was filed on 31 July 2023 relating to EP-A. The EPO determines that EP1-DIV is not allowable.  \n",
      "\n",
      "Which of the following statements is correct?\n",
      "\n",
      "(A) EP1-DIV can be revived if an appeal is filed against the rejection.\n",
      "(B) EP1-DIV remains allowable as a divisional application.\n",
      "(C) EP1-DIV is automatically revoked upon the rejection of the parent application.\n",
      "(D) EP1-DIV can be amended to address the reasons for rejection."
     ]
    }
   ],
   "source": [
    "for c in rag.generate_question(\"3. Divisional applications\", \"MCQ\"):\n",
    "    print(c, end='', flush=True)"
   ]
  },
  {
   "cell_type": "code",
   "execution_count": 8,
   "metadata": {},
   "outputs": [
    {
     "name": "stdout",
     "output_type": "stream",
     "text": [
      "Correct.\n",
      "\n",
      "Could you explain the legal basis for why an appeal might be considered in this scenario, referencing relevant European Patent Convention (EPC) provisions?"
     ]
    }
   ],
   "source": [
    "user_answer = \"Chosen answer : (A) EP1-DIV can be revived if an appeal is filed against the rejection.\" \n",
    "for c in rag.run_flux(user_answer, rerank=False):\n",
    "    print(c, end='', flush=True)"
   ]
  },
  {
   "cell_type": "code",
>>>>>>> Stashed changes
   "execution_count": 17,
   "metadata": {},
   "outputs": [
    {
     "name": "stdout",
     "output_type": "stream",
     "text": [
      "According to the European Patent Office (EPO) guidelines and the European Patent Convention (EPC), for an idea to be eligible for patenting, it must meet the following criteria:\n",
      "\n",
      "1. It must be an \"invention\" belonging to any field of technology.\n",
      "2. The invention must be \"susceptible of industrial application\".\n",
      "3. The invention must be \"new\".\n",
      "4. The invention must involve an \"inventive step\".\n",
      "\n",
      "Additionally, the EPO guidelines emphasize that a technical character is an implicit requisite for the presence of an \"invention\" within the meaning of Art. 52(1). This means that the idea must relate to a technical field, be concerned with a technical problem, and have technical features in terms of which the matter for which protection is sought can be defined in the claim.\n",
      "\n",
      "The two-hurdle approach is also relevant here: the first hurdle assesses whether the claimed subject-matter as a whole falls under the exclusions from patentability under Art. 52(2), while the second hurdle assesses inventive step by evaluating whether the features of the invention contribute to its technical character and solve a technical problem.\n",
      "\n",
      "Finally, it is important to note that an idea must not fall under the exclusions listed in Art. 52(2) of the EPC, such as discoveries, scientific theories, mathematical methods, aesthetic creations, schemes, rules, and methods for performing mental acts, playing games or doing business, and programs for computers."
     ]
    },
    {
     "data": {
      "text/plain": [
       "'According to the European Patent Office (EPO) guidelines and the European Patent Convention (EPC), for an idea to be eligible for patenting, it must meet the following criteria:\\n\\n1. It must be an \"invention\" belonging to any field of technology.\\n2. The invention must be \"susceptible of industrial application\".\\n3. The invention must be \"new\".\\n4. The invention must involve an \"inventive step\".\\n\\nAdditionally, the EPO guidelines emphasize that a technical character is an implicit requisite for the presence of an \"invention\" within the meaning of Art. 52(1). This means that the idea must relate to a technical field, be concerned with a technical problem, and have technical features in terms of which the matter for which protection is sought can be defined in the claim.\\n\\nThe two-hurdle approach is also relevant here: the first hurdle assesses whether the claimed subject-matter as a whole falls under the exclusions from patentability under Art. 52(2), while the second hurdle assesses inventive step by evaluating whether the features of the invention contribute to its technical character and solve a technical problem.\\n\\nFinally, it is important to note that an idea must not fall under the exclusions listed in Art. 52(2) of the EPC, such as discoveries, scientific theories, mathematical methods, aesthetic creations, schemes, rules, and methods for performing mental acts, playing games or doing business, and programs for computers.'"
      ]
     },
     "execution_count": 17,
     "metadata": {},
     "output_type": "execute_result"
    }
   ],
   "source": [
    "query = \"What does it take for an idea to be eligible for patenting?\"\n",
    "rag.run(query)"
   ]
  },
  {
   "cell_type": "code",
   "execution_count": 21,
   "metadata": {},
   "outputs": [
    {
     "name": "stdout",
     "output_type": "stream",
     "text": [
      "/home/timothee/Documents/data_challenges/PatentAssist/notebooks\n"
     ]
    },
    {
     "ename": "NameError",
     "evalue": "name '__file__' is not defined",
     "output_type": "error",
     "traceback": [
      "\u001b[31m---------------------------------------------------------------------------\u001b[39m",
      "\u001b[31mNameError\u001b[39m                                 Traceback (most recent call last)",
      "\u001b[36mCell\u001b[39m\u001b[36m \u001b[39m\u001b[32mIn[21]\u001b[39m\u001b[32m, line 5\u001b[39m\n\u001b[32m      3\u001b[39m ROOT_DIR = Path(os.getcwd())\n\u001b[32m      4\u001b[39m \u001b[38;5;28mprint\u001b[39m(ROOT_DIR)\n\u001b[32m----> \u001b[39m\u001b[32m5\u001b[39m ROOT_DIR = Path(\u001b[34;43m__file__\u001b[39;49m).resolve().parent.parent\n",
      "\u001b[31mNameError\u001b[39m: name '__file__' is not defined"
     ]
    }
   ],
   "source": [
    "from pathlib import Path\n",
    "import os\n",
    "ROOT_DIR = Path(os.getcwd())\n",
    "print(ROOT_DIR)\n",
    "ROOT_DIR = Path(__file__).resolve().parent.parent"
   ]
  },
  {
   "cell_type": "code",
   "execution_count": null,
   "metadata": {},
   "outputs": [],
   "source": []
  }
 ],
 "metadata": {
  "kernelspec": {
   "display_name": ".venv",
   "language": "python",
   "name": "python3"
  },
  "language_info": {
   "codemirror_mode": {
    "name": "ipython",
    "version": 3
   },
   "file_extension": ".py",
   "mimetype": "text/x-python",
   "name": "python",
   "nbconvert_exporter": "python",
   "pygments_lexer": "ipython3",
   "version": "3.13.2"
  }
 },
 "nbformat": 4,
 "nbformat_minor": 2
}
