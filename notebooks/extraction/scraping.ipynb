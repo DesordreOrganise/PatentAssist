{
 "cells": [
  {
   "cell_type": "code",
   "execution_count": 3,
   "metadata": {},
   "outputs": [],
   "source": [
    "from bs4 import BeautifulSoup\n",
    "import requests\n",
    "import os"
   ]
  },
  {
   "cell_type": "code",
   "execution_count": 7,
   "metadata": {},
   "outputs": [],
   "source": [
    "base_url = \"https://www.epo.org/en/legal/epc/2020\"\n",
    "summary_url = \"/\".join([base_url, \"regulations.html\"])\n",
    "response = requests.get(url=summary_url)\n",
    "if response.ok:\n",
    "    soup = BeautifulSoup(response.content)\n",
    "else:\n",
    "    print(\"request error\")"
   ]
  },
  {
   "cell_type": "code",
   "execution_count": 18,
   "metadata": {},
   "outputs": [],
   "source": [
    "def extract_name(item) -> str:\n",
    "    spans = item.find_all(\"span\")\n",
    "    i_end = 2\n",
    "    if len(spans) < 2:\n",
    "        i_end = len(spans)\n",
    "    part_name = \" - \".join([span.get_text() for span in spans[:i_end]])\n",
    "    return part_name"
   ]
  },
  {
   "cell_type": "code",
   "execution_count": 78,
   "metadata": {},
   "outputs": [],
   "source": [
    "from typing import TypedDict\n",
    "\n",
    "class Article(TypedDict):\n",
    "    book: str\n",
    "    part: str\n",
    "    chapter: str\n",
    "    title: str\n",
    "    text: str\n",
    "    references: list[str]\n",
    "\n",
    "def extract_article(url: str, part: str, chapter: str) -> Article:\n",
    "    article = {\"book\": \"EPC\", \"part\": part, \"chapter\": chapter, \"title\": \"\", \"text\": \"\", \"references\": \"\"}\n",
    "    response = requests.get(url=url)\n",
    "    if response.ok:\n",
    "        soup = BeautifulSoup(response.content)\n",
    "    else:\n",
    "        print(\"request error\")\n",
    "        return Article[article]\n",
    "\n",
    "    block = soup.find(\"div\", class_=\"lc-inline_column_second-edit layoutcomponent-column col-sm-12 col-md-12 col-lg-6 show-modification-body legal-text-navigation-buttons\").find(\"div\")\n",
    "    article[\"title\"] = block.find(\"div\").find(\"h1\").get_text(\" - \")\n",
    "    article[\"text\"] = block.find(\"div\", class_=\"site-main block block-layout-builder block-field-blocknodeguidelines-for-examination-epcbody\").find(\"div\", class_=\"epolegal-content\").get_text()\n",
    "    refs_block = soup.find(\"div\", class_=\"site-references\")\n",
    "    if refs_block:\n",
    "        refs = refs_block.find_all(\"a\")\n",
    "        article[\"references\"] = [ref.get(\"title\") for ref in refs]\n",
    "\n",
    "    return Article(article)"
   ]
  },
  {
   "cell_type": "code",
   "execution_count": 10,
   "metadata": {},
   "outputs": [
    {
     "ename": "IndexError",
     "evalue": "list index out of range",
     "output_type": "error",
     "traceback": [
      "\u001b[31m---------------------------------------------------------------------------\u001b[39m",
      "\u001b[31mIndexError\u001b[39m                                Traceback (most recent call last)",
      "\u001b[36mCell\u001b[39m\u001b[36m \u001b[39m\u001b[32mIn[10]\u001b[39m\u001b[32m, line 7\u001b[39m\n\u001b[32m      4\u001b[39m content = []\n\u001b[32m      6\u001b[39m \u001b[38;5;28;01mfor\u001b[39;00m part, chapters \u001b[38;5;129;01min\u001b[39;00m \u001b[38;5;28mzip\u001b[39m(accordeon.find_all(\u001b[33m\"\u001b[39m\u001b[33mdt\u001b[39m\u001b[33m\"\u001b[39m), accordeon.find_all(\u001b[33m\"\u001b[39m\u001b[33mdd\u001b[39m\u001b[33m\"\u001b[39m)):\n\u001b[32m----> \u001b[39m\u001b[32m7\u001b[39m     part_name = \u001b[43mextract_name\u001b[49m\u001b[43m(\u001b[49m\u001b[43mpart\u001b[49m\u001b[43m)\u001b[49m\n\u001b[32m      8\u001b[39m     \u001b[38;5;28mprint\u001b[39m(part_name)\n\u001b[32m      9\u001b[39m     chapter = \u001b[33m\"\u001b[39m\u001b[33m\"\u001b[39m\n",
      "\u001b[36mCell\u001b[39m\u001b[36m \u001b[39m\u001b[32mIn[8]\u001b[39m\u001b[32m, line 3\u001b[39m, in \u001b[36mextract_name\u001b[39m\u001b[34m(item)\u001b[39m\n\u001b[32m      1\u001b[39m \u001b[38;5;28;01mdef\u001b[39;00m\u001b[38;5;250m \u001b[39m\u001b[34mextract_name\u001b[39m(item) -> \u001b[38;5;28mstr\u001b[39m:\n\u001b[32m      2\u001b[39m     spans = item.find_all(\u001b[33m\"\u001b[39m\u001b[33mspan\u001b[39m\u001b[33m\"\u001b[39m)\n\u001b[32m----> \u001b[39m\u001b[32m3\u001b[39m     part_name = \u001b[33m\"\u001b[39m\u001b[33m - \u001b[39m\u001b[33m\"\u001b[39m.join([\u001b[43mspans\u001b[49m\u001b[43m[\u001b[49m\u001b[32;43m0\u001b[39;49m\u001b[43m]\u001b[49m.get_text(), spans[\u001b[32m1\u001b[39m].get_text()])\n\u001b[32m      4\u001b[39m     \u001b[38;5;28;01mreturn\u001b[39;00m part_name\n",
      "\u001b[31mIndexError\u001b[39m: list index out of range"
     ]
    }
   ],
   "source": [
    "body = \"site-main block block-layout-builder block-field-blocknodeguidelines-for-examination-epcbody\"\n",
    "accordeon = soup.find(class_=body).find_next(\"div\").find_next(\"div\").find_next(\"dl\")\n",
    "\n",
    "content = []\n",
    "\n",
    "for part, chapters in zip(accordeon.find_all(\"dt\"), accordeon.find_all(\"dd\")):\n",
    "    part_name = extract_name(part)\n",
    "    print(part_name)\n",
    "    chapter = \"\"\n",
    "    for elem in chapters.find_all(\"div\"):\n",
    "        if elem.has_attr(\"class\") and \"card-header-nolink\" in elem[\"class\"]:\n",
    "            chapter_name = extract_name(elem)\n",
    "            print(f\"  {chapter_name}\")\n",
    "        if elem.has_attr(\"class\") and \"card-header-white\" in elem[\"class\"]:\n",
    "            article = elem\n",
    "            article_a = article.find_next(\"h5\").find_next(\"a\")\n",
    "            sub_url = article_a.get(\"href\")\n",
    "            article_url = \"/\".join([base_url, sub_url])\n",
    "            article_name = extract_name(article_a)\n",
    "            print(f\"    {article_name}\")\n",
    "            print(\"    \", article_url)\n",
    "            print(\"    ----------\")\n",
    "            content.append(extract_article(article_url, part_name, chapter_name))"
   ]
  },
  {
   "cell_type": "code",
   "execution_count": 6,
   "metadata": {},
   "outputs": [],
   "source": [
    "import json\n",
    "with open(\"EPC_regulations.json\", \"w\") as js:\n",
    "    json.dump(content, js)"
   ]
  },
  {
   "cell_type": "markdown",
   "metadata": {},
   "source": [
    "# Guidelines\n",
    "\n",
    "This part has to be addressed separately as the html shape is different."
   ]
  },
  {
   "cell_type": "code",
   "execution_count": 1,
   "metadata": {},
   "outputs": [],
   "source": [
    "import requests\n",
    "from bs4 import BeautifulSoup"
   ]
  },
  {
   "cell_type": "code",
   "execution_count": 18,
   "metadata": {},
   "outputs": [],
   "source": [
    "from typing import TypedDict\n",
    "\n",
    "class Article(TypedDict):\n",
    "    book: str\n",
    "    part: str\n",
    "    chapter: str\n",
    "    title: str\n",
    "    text: str\n",
    "    references: list[str]\n",
    "\n",
    "def extract_article(url: str, part: str, chapter: str) -> Article:\n",
    "    article = {\"book\": \"EPO_guidelines\", \"part\": part, \"chapter\": chapter, \"title\": \"\", \"implementation\": {}}\n",
    "    response = requests.get(url=url)\n",
    "    if response.ok:\n",
    "        soup = BeautifulSoup(response.content)\n",
    "    else:\n",
    "        print(\"request error\")\n",
    "        return Article(article)\n",
    "\n",
    "    block = soup.find(\"div\", class_=\"lc-inline_column_second-edit layoutcomponent-column col-sm-12 col-md-12 col-lg-6 show-modification-body legal-text-navigation-buttons\").find(\"div\", class_=\"layout-builder__region js-layout-builder-region lc-inline_column_second-content-edit\")\n",
    "    article[\"title\"] = block.find(\"div\", class_=\"lc-inline_block_908ed3e9e0298a0f3a8a96e0e0f83b8f-edit block block-layout-builder block-field-blocknodeeuropean-patent-conventionsfield-caption\").find(\"h1\").get_text(\" - \")\n",
    "    content_blocks = block.find(\"div\", class_=\"site-main block block-layout-builder block-field-blocknodeguidelines-for-examination-epcbody\").find_all(\"div\", class_=\"DOC4NET2_Frame\")\n",
    "    if content_blocks:\n",
    "        for content_block in content_blocks:\n",
    "            text_block = content_block.find(\"div\", class_=\"DOC4NET2_Frame_Text\")\n",
    "            ref_block = content_block.find(\"div\", class_=\"DOC4NET2_Frame_Margin\")\n",
    "            if ref_block and len(ref_block.find_all(\"a\")) > 0:\n",
    "                for ref in ref_block.find_all(\"a\"):\n",
    "                    article[\"implementation\"][ref.get(\"title\").split(\" \")[0]] = text_block.get_text()\n",
    "            else:\n",
    "                article[\"implementation\"] = text_block.get_text()\n",
    "\n",
    "    return Article(article)"
   ]
  },
  {
   "cell_type": "code",
   "execution_count": 19,
   "metadata": {},
   "outputs": [
    {
     "data": {
      "text/plain": [
       "{'book': 'EPO_guidelines',\n",
       " 'part': '',\n",
       " 'chapter': '',\n",
       " 'title': '5. Documents filed in the wrong language\\xa0 ',\n",
       " 'implementation': {'Article\\xa014': 'Documents making up the European patent application can only be filed in the wrong language on the occasion of its amendment, since the application can originally be filed in any language (see A‑VII,\\xa01.1). In such a case, as well as if any other document is not filed in the prescribed language or any required translation is not filed in due time, the document is deemed not filed. The person who has filed the document will be notified accordingly by the EPO. Even though deemed not filed, the document concerned will become part of the file and therefore accessible to the public according to Art.\\xa0128(4).\\n',\n",
       "  'Rule\\xa03': 'In the event of failure to file a translation of the filed documentary evidence upon invitation in due time, the documents in question may be disregarded by the EPO.\\nWhere submissions accompanying the performance of a procedural act subject to a time limit (e.g.\\xa0filing the designation of the inventor, filing a certified copy of the earlier application for which priority is claimed or filing the translation of the priority document under Rule\\xa053(3)) are not filed in an official EPO language, they will be included in the file without note being taken of their content.\\n',\n",
       "  'Rule\\xa079': 'Observations by third parties and notices of oppositions will be communicated to the applicant or the patent proprietor even if they are deemed not filed.\\n',\n",
       "  'Rule\\xa0114': 'Observations by third parties and notices of oppositions will be communicated to the applicant or the patent proprietor even if they are deemed not filed.\\n'}}"
      ]
     },
     "execution_count": 19,
     "metadata": {},
     "output_type": "execute_result"
    }
   ],
   "source": [
    "url = \"https://www.epo.org/en/legal/guidelines-epc/2024/a_vii_5.html\"\n",
    "extract_article(url, \"\", \"\")"
   ]
  },
  {
   "cell_type": "code",
   "execution_count": 20,
   "metadata": {},
   "outputs": [],
   "source": [
    "base_url = \"https://www.epo.org\"\n",
    "summary_url = \"/\".join([base_url, \"en/legal/guidelines-epc/2024/index.html\"])\n",
    "response = requests.get(url=summary_url)\n",
    "if response.ok:\n",
    "    soup = BeautifulSoup(response.content, \"html.parser\")\n",
    "else:\n",
    "    print(\"request error\")"
   ]
  },
  {
   "cell_type": "code",
   "execution_count": 21,
   "metadata": {},
   "outputs": [],
   "source": [
    "def browse_sommaire_depth_first(sommaire: list, depth: int=0) -> str:\n",
    "    output = []\n",
    "    i = 0\n",
    "    while i < len(sommaire):\n",
    "        if isinstance(sommaire[i], list):\n",
    "            output.extend(browse_sommaire_depth_first(sommaire[i], depth+1))\n",
    "            i += 1\n",
    "        else:\n",
    "            output.append((sommaire[0], sommaire[1]))\n",
    "            i += 3\n",
    "        \n",
    "    return output\n",
    "    \"\"\" if elem.startswith('/'):\n",
    "        address = elem\n",
    "        print(\" \"*depth, f\"address: {address}\")\n",
    "    elif elem != \"\":\n",
    "        title = elem\n",
    "        print(\" \"*depth, f\"{title}\") \"\"\""
   ]
  },
  {
   "cell_type": "code",
   "execution_count": 22,
   "metadata": {},
   "outputs": [],
   "source": [
    "x = soup.find(\"div\", class_=\"lc-section lc-section-884 layoutcomponents-three-column container legal-texts lc-inline_section-edit\").find(\"div\", class_=\"layout-builder__region js-layout-builder-region lc-inline_column_first-content-edit\").find(\"div\", class_=\"views-element-container block block-views block-views-blockepc-left-epc-content\").find(\"script\")"
   ]
  },
  {
   "cell_type": "code",
   "execution_count": 23,
   "metadata": {},
   "outputs": [],
   "source": [
    "def parse(x: str):\n",
    "    x = x[:-1]\n",
    "    x = x.replace(\"var oMenu = \", \"\")\n",
    "    return x\n",
    "\n",
    "sommaire_guidelines = eval(parse(x.get_text()))"
   ]
  },
  {
   "cell_type": "code",
   "execution_count": 24,
   "metadata": {},
   "outputs": [
    {
     "name": "stderr",
     "output_type": "stream",
     "text": [
      "  0%|          | 0/8 [00:00<?, ?it/s]"
     ]
    },
    {
     "name": "stdout",
     "output_type": "stream",
     "text": [
      "Part A – Guidelines for Formalities Examination ; Chapter I – Introduction\n",
      "Part A – Guidelines for Formalities Examination ; Chapter II – Filing of applications and examination on filing\n"
     ]
    },
    {
     "name": "stderr",
     "output_type": "stream",
     "text": [
      "  0%|          | 0/8 [00:03<?, ?it/s]"
     ]
    },
    {
     "name": "stdout",
     "output_type": "stream",
     "text": [
      "else\n"
     ]
    },
    {
     "name": "stderr",
     "output_type": "stream",
     "text": [
      "\n"
     ]
    },
    {
     "ename": "AttributeError",
     "evalue": "'dict' object has no attribute 'add'",
     "output_type": "error",
     "traceback": [
      "\u001b[31m---------------------------------------------------------------------------\u001b[39m",
      "\u001b[31mAttributeError\u001b[39m                            Traceback (most recent call last)",
      "\u001b[36mCell\u001b[39m\u001b[36m \u001b[39m\u001b[32mIn[24]\u001b[39m\u001b[32m, line 9\u001b[39m\n\u001b[32m      7\u001b[39m \u001b[38;5;28;01mfor\u001b[39;00m guideline, url \u001b[38;5;129;01min\u001b[39;00m elements:\n\u001b[32m      8\u001b[39m     url = \u001b[33m\"\u001b[39m\u001b[33m/\u001b[39m\u001b[33m\"\u001b[39m.join([base_url, url])\n\u001b[32m----> \u001b[39m\u001b[32m9\u001b[39m     content.append(\u001b[43mextract_article\u001b[49m\u001b[43m(\u001b[49m\u001b[43murl\u001b[49m\u001b[43m,\u001b[49m\u001b[43m \u001b[49m\u001b[43mpart\u001b[49m\u001b[43m[\u001b[49m\u001b[32;43m0\u001b[39;49m\u001b[43m]\u001b[49m\u001b[43m,\u001b[49m\u001b[43m \u001b[49m\u001b[43mchapter\u001b[49m\u001b[43m[\u001b[49m\u001b[32;43m0\u001b[39;49m\u001b[43m]\u001b[49m\u001b[43m)\u001b[49m)\n",
      "\u001b[36mCell\u001b[39m\u001b[36m \u001b[39m\u001b[32mIn[18]\u001b[39m\u001b[32m, line 32\u001b[39m, in \u001b[36mextract_article\u001b[39m\u001b[34m(url, part, chapter)\u001b[39m\n\u001b[32m     30\u001b[39m         \u001b[38;5;28;01melse\u001b[39;00m:\n\u001b[32m     31\u001b[39m             \u001b[38;5;28mprint\u001b[39m(\u001b[33m\"\u001b[39m\u001b[33melse\u001b[39m\u001b[33m\"\u001b[39m)\n\u001b[32m---> \u001b[39m\u001b[32m32\u001b[39m             \u001b[43marticle\u001b[49m\u001b[43m[\u001b[49m\u001b[33;43m\"\u001b[39;49m\u001b[33;43mimplementation\u001b[39;49m\u001b[33;43m\"\u001b[39;49m\u001b[43m]\u001b[49m\u001b[43m.\u001b[49m\u001b[43madd\u001b[49m(text_block.get_text())\n\u001b[32m     34\u001b[39m \u001b[38;5;28;01mreturn\u001b[39;00m Article(article)\n",
      "\u001b[31mAttributeError\u001b[39m: 'dict' object has no attribute 'add'"
     ]
    }
   ],
   "source": [
    "from tqdm import tqdm\n",
    "content = []\n",
    "for part in tqdm(sommaire_guidelines[1:-3]):\n",
    "    for chapter in part[3]:\n",
    "        print(f\"{part[0]} ; {chapter[0]}\")\n",
    "        elements = browse_sommaire_depth_first(chapter)\n",
    "        for guideline, url in elements:\n",
    "            url = \"/\".join([base_url, url])\n",
    "            content.append(extract_article(url, part[0], chapter[0]))"
   ]
  },
  {
   "cell_type": "code",
   "execution_count": 54,
   "metadata": {},
   "outputs": [],
   "source": [
    "import json\n",
    "with open(\"EPO_guidelines.json\", 'w') as js:\n",
    "    json.dump(content, js)"
   ]
  },
  {
   "cell_type": "code",
   "execution_count": 17,
   "metadata": {},
   "outputs": [
    {
     "data": {
      "text/plain": [
       "[{'book': 'EPO_guidelines',\n",
       "  'part': 'Part A – Guidelines for Formalities Examination',\n",
       "  'chapter': 'Chapter I – Introduction',\n",
       "  'title': 'Chapter I – Introduction',\n",
       "  'implementation': {}},\n",
       " {'book': 'EPO_guidelines',\n",
       "  'part': 'Part A – Guidelines for Formalities Examination',\n",
       "  'chapter': 'Chapter I – Introduction',\n",
       "  'title': '1. Overview\\xa0 ',\n",
       "  'implementation': {}},\n",
       " {'book': 'EPO_guidelines',\n",
       "  'part': 'Part A – Guidelines for Formalities Examination',\n",
       "  'chapter': 'Chapter I – Introduction',\n",
       "  'title': '2. Responsibility for formalities examination\\xa0 ',\n",
       "  'implementation': {'Rule\\xa010': 'The matters covered in this part are intended for EPO formalities staff at all sites (The\\xa0Hague, Munich and Berlin) and in particular for the Receiving Section, which is specifically responsible under the EPC for ensuring that the formal requirements for European patent applications are met. Once an application is transferred to the examining division, the latter accepts responsibility for the formalities of the application, although it should be understood that the term \"examining division\" is intended to include the formalities officer to whom this work is entrusted (see the decisions of the President of the EPO dated 12\\xa0December\\xa02013, OJ\\xa0EPO\\xa02014,\\xa0A6, 23\\xa0November\\xa02015, OJ\\xa0EPO\\xa02015, A104, and 14 June 2020, OJ EPO 2020, A80).\\n',\n",
       "   'Rule\\xa011': 'The matters covered in this part are intended for EPO formalities staff at all sites (The\\xa0Hague, Munich and Berlin) and in particular for the Receiving Section, which is specifically responsible under the EPC for ensuring that the formal requirements for European patent applications are met. Once an application is transferred to the examining division, the latter accepts responsibility for the formalities of the application, although it should be understood that the term \"examining division\" is intended to include the formalities officer to whom this work is entrusted (see the decisions of the President of the EPO dated 12\\xa0December\\xa02013, OJ\\xa0EPO\\xa02014,\\xa0A6, 23\\xa0November\\xa02015, OJ\\xa0EPO\\xa02015, A104, and 14 June 2020, OJ EPO 2020, A80).\\n'}},\n",
       " {'book': 'EPO_guidelines',\n",
       "  'part': 'Part A – Guidelines for Formalities Examination',\n",
       "  'chapter': 'Chapter I – Introduction',\n",
       "  'title': '3. Purpose of  - Part\\xa0A -  ',\n",
       "  'implementation': {}},\n",
       " {'book': 'EPO_guidelines',\n",
       "  'part': 'Part A – Guidelines for Formalities Examination',\n",
       "  'chapter': 'Chapter I – Introduction',\n",
       "  'title': '4. Other parts relating to formalities\\xa0 ',\n",
       "  'implementation': {}},\n",
       " {'book': 'EPO_guidelines',\n",
       "  'part': 'Part A – Guidelines for Formalities Examination',\n",
       "  'chapter': 'Chapter II – Filing of applications and examination on filing',\n",
       "  'title': 'Chapter II – Filing of applications and examination on filing',\n",
       "  'implementation': {}}]"
      ]
     },
     "execution_count": 17,
     "metadata": {},
     "output_type": "execute_result"
    }
   ],
   "source": [
    "content"
   ]
  },
  {
   "cell_type": "code",
   "execution_count": null,
   "metadata": {},
   "outputs": [],
   "source": []
  }
 ],
 "metadata": {
  "kernelspec": {
   "display_name": ".env",
   "language": "python",
   "name": "python3"
  },
  "language_info": {
   "codemirror_mode": {
    "name": "ipython",
    "version": 3
   },
   "file_extension": ".py",
   "mimetype": "text/x-python",
   "name": "python",
   "nbconvert_exporter": "python",
   "pygments_lexer": "ipython3",
   "version": "3.11.7"
  }
 },
 "nbformat": 4,
 "nbformat_minor": 2
}
